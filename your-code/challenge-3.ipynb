{
 "cells": [
  {
   "cell_type": "markdown",
   "metadata": {},
   "source": [
    "# Challenge 3\n",
    "\n",
    "In this challenge we will work on the `Orders` data set. In your work you will apply the thinking process and workflow we showed you in Challenge 2.\n",
    "\n",
    "You are serving as a Business Intelligence Analyst at the headquarter of an international fashion goods chain store. Your boss today asked you to do two things for her:\n",
    "\n",
    "**First, identify two groups of customers from the data set.** The first group is **VIP Customers** whose **aggregated expenses** at your global chain stores are **above the 95th percentile** (aka. 0.95 quantile). The second group is **Preferred Customers** whose **aggregated expenses** are **between the 75th and 95th percentile**.\n",
    "\n",
    "**Second, identify which country has the most of your VIP customers, and which country has the most of your VIP+Preferred Customers combined.**"
   ]
  },
  {
   "cell_type": "markdown",
   "metadata": {},
   "source": [
    "## Q1: How to identify VIP & Preferred Customers?\n",
    "\n",
    "We start by importing all the required libraries:"
   ]
  },
  {
   "cell_type": "code",
   "execution_count": 1,
   "metadata": {},
   "outputs": [],
   "source": [
    "# import required libraries\n",
    "import numpy as np\n",
    "import pandas as pd"
   ]
  },
  {
   "cell_type": "markdown",
   "metadata": {},
   "source": [
    "Next, extract and import `Orders` dataset into a dataframe variable called `orders`. Print the head of `orders` to overview the data:"
   ]
  },
  {
   "cell_type": "code",
   "execution_count": 2,
   "metadata": {},
   "outputs": [
    {
     "data": {
      "text/html": [
       "<div>\n",
       "<style scoped>\n",
       "    .dataframe tbody tr th:only-of-type {\n",
       "        vertical-align: middle;\n",
       "    }\n",
       "\n",
       "    .dataframe tbody tr th {\n",
       "        vertical-align: top;\n",
       "    }\n",
       "\n",
       "    .dataframe thead th {\n",
       "        text-align: right;\n",
       "    }\n",
       "</style>\n",
       "<table border=\"1\" class=\"dataframe\">\n",
       "  <thead>\n",
       "    <tr style=\"text-align: right;\">\n",
       "      <th></th>\n",
       "      <th>Order ID</th>\n",
       "      <th>Ship Date</th>\n",
       "      <th>Ship Mode</th>\n",
       "      <th>City</th>\n",
       "      <th>State</th>\n",
       "      <th>Country</th>\n",
       "      <th>Region</th>\n",
       "      <th>Product ID</th>\n",
       "      <th>Jan</th>\n",
       "      <th>Feb</th>\n",
       "      <th>Mar</th>\n",
       "      <th>Apr</th>\n",
       "      <th>May</th>\n",
       "      <th>June</th>\n",
       "      <th>July</th>\n",
       "      <th>August</th>\n",
       "      <th>September</th>\n",
       "      <th>Oct</th>\n",
       "      <th>Nov</th>\n",
       "      <th>Dec</th>\n",
       "    </tr>\n",
       "  </thead>\n",
       "  <tbody>\n",
       "    <tr>\n",
       "      <th>0</th>\n",
       "      <td>ES-2014-1846006</td>\n",
       "      <td>2016-01-03</td>\n",
       "      <td>First Class</td>\n",
       "      <td>Paris</td>\n",
       "      <td>Ile-de-France</td>\n",
       "      <td>France</td>\n",
       "      <td>Central</td>\n",
       "      <td>FUR-BO-10001405</td>\n",
       "      <td>0.296785</td>\n",
       "      <td>0.740937</td>\n",
       "      <td>0.319342</td>\n",
       "      <td>0.664082</td>\n",
       "      <td>0.491991</td>\n",
       "      <td>0.279603</td>\n",
       "      <td>0.721468</td>\n",
       "      <td>0.827661</td>\n",
       "      <td>0.266435</td>\n",
       "      <td>0.593755</td>\n",
       "      <td>0.624222</td>\n",
       "      <td>0.666361</td>\n",
       "    </tr>\n",
       "    <tr>\n",
       "      <th>1</th>\n",
       "      <td>ES-2014-1846006</td>\n",
       "      <td>2016-01-03</td>\n",
       "      <td>First Class</td>\n",
       "      <td>Paris</td>\n",
       "      <td>Ile-de-France</td>\n",
       "      <td>France</td>\n",
       "      <td>Central</td>\n",
       "      <td>OFF-AP-10000977</td>\n",
       "      <td>0.920646</td>\n",
       "      <td>0.968545</td>\n",
       "      <td>0.171464</td>\n",
       "      <td>0.244247</td>\n",
       "      <td>0.025352</td>\n",
       "      <td>0.119380</td>\n",
       "      <td>0.931719</td>\n",
       "      <td>0.742272</td>\n",
       "      <td>0.886169</td>\n",
       "      <td>0.258289</td>\n",
       "      <td>0.523348</td>\n",
       "      <td>0.629398</td>\n",
       "    </tr>\n",
       "    <tr>\n",
       "      <th>2</th>\n",
       "      <td>ES-2014-1846006</td>\n",
       "      <td>2016-01-03</td>\n",
       "      <td>First Class</td>\n",
       "      <td>Paris</td>\n",
       "      <td>Ile-de-France</td>\n",
       "      <td>France</td>\n",
       "      <td>Central</td>\n",
       "      <td>OFF-BI-10002083</td>\n",
       "      <td>0.879809</td>\n",
       "      <td>0.363669</td>\n",
       "      <td>0.150853</td>\n",
       "      <td>0.888946</td>\n",
       "      <td>0.860743</td>\n",
       "      <td>0.648089</td>\n",
       "      <td>0.022201</td>\n",
       "      <td>0.637949</td>\n",
       "      <td>0.873964</td>\n",
       "      <td>0.738800</td>\n",
       "      <td>0.869995</td>\n",
       "      <td>0.182114</td>\n",
       "    </tr>\n",
       "    <tr>\n",
       "      <th>3</th>\n",
       "      <td>ES-2015-1001989</td>\n",
       "      <td>2015-03-15</td>\n",
       "      <td>First Class</td>\n",
       "      <td>Berlin</td>\n",
       "      <td>Berlin</td>\n",
       "      <td>Germany</td>\n",
       "      <td>Central</td>\n",
       "      <td>OFF-BI-10002570</td>\n",
       "      <td>0.258669</td>\n",
       "      <td>0.915954</td>\n",
       "      <td>0.207590</td>\n",
       "      <td>0.659243</td>\n",
       "      <td>0.656168</td>\n",
       "      <td>0.346124</td>\n",
       "      <td>0.227398</td>\n",
       "      <td>0.934574</td>\n",
       "      <td>0.639858</td>\n",
       "      <td>0.757322</td>\n",
       "      <td>0.921393</td>\n",
       "      <td>0.983744</td>\n",
       "    </tr>\n",
       "    <tr>\n",
       "      <th>4</th>\n",
       "      <td>ES-2015-1010958</td>\n",
       "      <td>2015-06-07</td>\n",
       "      <td>Standard Class</td>\n",
       "      <td>Deuil-la-Barre</td>\n",
       "      <td>Ile-de-France</td>\n",
       "      <td>France</td>\n",
       "      <td>Central</td>\n",
       "      <td>OFF-BI-10004924</td>\n",
       "      <td>0.283790</td>\n",
       "      <td>0.224399</td>\n",
       "      <td>0.518316</td>\n",
       "      <td>0.396888</td>\n",
       "      <td>0.709176</td>\n",
       "      <td>0.137325</td>\n",
       "      <td>0.771152</td>\n",
       "      <td>0.605851</td>\n",
       "      <td>0.209154</td>\n",
       "      <td>0.599237</td>\n",
       "      <td>0.209094</td>\n",
       "      <td>0.662120</td>\n",
       "    </tr>\n",
       "  </tbody>\n",
       "</table>\n",
       "</div>"
      ],
      "text/plain": [
       "          Order ID  Ship Date       Ship Mode            City          State  \\\n",
       "0  ES-2014-1846006 2016-01-03     First Class           Paris  Ile-de-France   \n",
       "1  ES-2014-1846006 2016-01-03     First Class           Paris  Ile-de-France   \n",
       "2  ES-2014-1846006 2016-01-03     First Class           Paris  Ile-de-France   \n",
       "3  ES-2015-1001989 2015-03-15     First Class          Berlin         Berlin   \n",
       "4  ES-2015-1010958 2015-06-07  Standard Class  Deuil-la-Barre  Ile-de-France   \n",
       "\n",
       "   Country   Region       Product ID       Jan       Feb       Mar       Apr  \\\n",
       "0   France  Central  FUR-BO-10001405  0.296785  0.740937  0.319342  0.664082   \n",
       "1   France  Central  OFF-AP-10000977  0.920646  0.968545  0.171464  0.244247   \n",
       "2   France  Central  OFF-BI-10002083  0.879809  0.363669  0.150853  0.888946   \n",
       "3  Germany  Central  OFF-BI-10002570  0.258669  0.915954  0.207590  0.659243   \n",
       "4   France  Central  OFF-BI-10004924  0.283790  0.224399  0.518316  0.396888   \n",
       "\n",
       "        May      June      July    August  September       Oct       Nov  \\\n",
       "0  0.491991  0.279603  0.721468  0.827661   0.266435  0.593755  0.624222   \n",
       "1  0.025352  0.119380  0.931719  0.742272   0.886169  0.258289  0.523348   \n",
       "2  0.860743  0.648089  0.022201  0.637949   0.873964  0.738800  0.869995   \n",
       "3  0.656168  0.346124  0.227398  0.934574   0.639858  0.757322  0.921393   \n",
       "4  0.709176  0.137325  0.771152  0.605851   0.209154  0.599237  0.209094   \n",
       "\n",
       "        Dec  \n",
       "0  0.666361  \n",
       "1  0.629398  \n",
       "2  0.182114  \n",
       "3  0.983744  \n",
       "4  0.662120  "
      ]
     },
     "execution_count": 2,
     "metadata": {},
     "output_type": "execute_result"
    }
   ],
   "source": [
    "# your code here\n",
    "orders = pd.read_excel('C:\\\\Users\\\\Santiago\\\\Desktop\\\\Ironhack Files\\\\orders.xlsx')\n",
    "orders.head()"
   ]
  },
  {
   "cell_type": "markdown",
   "metadata": {},
   "source": [
    "---\n",
    "\n",
    "\"Identify VIP and Preferred Customers\" is the non-technical goal of your boss. You need to translate that goal into technical languages that data analysts use:\n",
    "\n",
    "## How to label customers whose aggregated `amount_spent` is in a given quantile range?\n"
   ]
  },
  {
   "cell_type": "markdown",
   "metadata": {},
   "source": [
    "We break down the main problem into several sub problems:\n",
    "\n",
    "#### Sub Problem 1: How to aggregate the  `amount_spent` for unique customers?\n",
    "\n",
    "#### Sub Problem 2: How to select customers whose aggregated `amount_spent` is in a given quantile range?\n",
    "\n",
    "#### Sub Problem 3: How to label selected customers as \"VIP\" or \"Preferred\"?\n",
    "\n",
    "*Note: If you want to break down the main problem in a different way, please feel free to revise the sub problems above.*\n",
    "\n",
    "Now in the workspace below, tackle each of the sub problems using the iterative problem solving workflow. Insert cells as necessary to write your codes and explain your steps."
   ]
  },
  {
   "cell_type": "code",
   "execution_count": 3,
   "metadata": {},
   "outputs": [
    {
     "data": {
      "text/plain": [
       "Index(['Order ID', 'Ship Date', 'Ship Mode', 'City', 'State', 'Country',\n",
       "       'Region', 'Product ID', 'Jan', 'Feb', 'Mar', 'Apr', 'May', 'June',\n",
       "       'July', 'August', 'September', 'Oct', 'Nov', 'Dec'],\n",
       "      dtype='object')"
      ]
     },
     "execution_count": 3,
     "metadata": {},
     "output_type": "execute_result"
    }
   ],
   "source": [
    "orders.columns"
   ]
  },
  {
   "cell_type": "code",
   "execution_count": 4,
   "metadata": {},
   "outputs": [
    {
     "data": {
      "text/html": [
       "<div>\n",
       "<style scoped>\n",
       "    .dataframe tbody tr th:only-of-type {\n",
       "        vertical-align: middle;\n",
       "    }\n",
       "\n",
       "    .dataframe tbody tr th {\n",
       "        vertical-align: top;\n",
       "    }\n",
       "\n",
       "    .dataframe thead th {\n",
       "        text-align: right;\n",
       "    }\n",
       "</style>\n",
       "<table border=\"1\" class=\"dataframe\">\n",
       "  <thead>\n",
       "    <tr style=\"text-align: right;\">\n",
       "      <th></th>\n",
       "      <th>Order ID</th>\n",
       "      <th>Ship Date</th>\n",
       "      <th>Ship Mode</th>\n",
       "      <th>City</th>\n",
       "      <th>State</th>\n",
       "      <th>Country</th>\n",
       "      <th>Region</th>\n",
       "      <th>Product ID</th>\n",
       "      <th>amount_spent</th>\n",
       "    </tr>\n",
       "  </thead>\n",
       "  <tbody>\n",
       "    <tr>\n",
       "      <th>0</th>\n",
       "      <td>ES-2014-1846006</td>\n",
       "      <td>2016-01-03</td>\n",
       "      <td>First Class</td>\n",
       "      <td>Paris</td>\n",
       "      <td>Ile-de-France</td>\n",
       "      <td>France</td>\n",
       "      <td>Central</td>\n",
       "      <td>FUR-BO-10001405</td>\n",
       "      <td>6.492642</td>\n",
       "    </tr>\n",
       "    <tr>\n",
       "      <th>1</th>\n",
       "      <td>ES-2014-1846006</td>\n",
       "      <td>2016-01-03</td>\n",
       "      <td>First Class</td>\n",
       "      <td>Paris</td>\n",
       "      <td>Ile-de-France</td>\n",
       "      <td>France</td>\n",
       "      <td>Central</td>\n",
       "      <td>OFF-AP-10000977</td>\n",
       "      <td>6.420829</td>\n",
       "    </tr>\n",
       "    <tr>\n",
       "      <th>2</th>\n",
       "      <td>ES-2014-1846006</td>\n",
       "      <td>2016-01-03</td>\n",
       "      <td>First Class</td>\n",
       "      <td>Paris</td>\n",
       "      <td>Ile-de-France</td>\n",
       "      <td>France</td>\n",
       "      <td>Central</td>\n",
       "      <td>OFF-BI-10002083</td>\n",
       "      <td>7.117130</td>\n",
       "    </tr>\n",
       "    <tr>\n",
       "      <th>3</th>\n",
       "      <td>ES-2015-1001989</td>\n",
       "      <td>2015-03-15</td>\n",
       "      <td>First Class</td>\n",
       "      <td>Berlin</td>\n",
       "      <td>Berlin</td>\n",
       "      <td>Germany</td>\n",
       "      <td>Central</td>\n",
       "      <td>OFF-BI-10002570</td>\n",
       "      <td>7.508037</td>\n",
       "    </tr>\n",
       "    <tr>\n",
       "      <th>4</th>\n",
       "      <td>ES-2015-1010958</td>\n",
       "      <td>2015-06-07</td>\n",
       "      <td>Standard Class</td>\n",
       "      <td>Deuil-la-Barre</td>\n",
       "      <td>Ile-de-France</td>\n",
       "      <td>France</td>\n",
       "      <td>Central</td>\n",
       "      <td>OFF-BI-10004924</td>\n",
       "      <td>5.326502</td>\n",
       "    </tr>\n",
       "  </tbody>\n",
       "</table>\n",
       "</div>"
      ],
      "text/plain": [
       "          Order ID  Ship Date       Ship Mode            City          State  \\\n",
       "0  ES-2014-1846006 2016-01-03     First Class           Paris  Ile-de-France   \n",
       "1  ES-2014-1846006 2016-01-03     First Class           Paris  Ile-de-France   \n",
       "2  ES-2014-1846006 2016-01-03     First Class           Paris  Ile-de-France   \n",
       "3  ES-2015-1001989 2015-03-15     First Class          Berlin         Berlin   \n",
       "4  ES-2015-1010958 2015-06-07  Standard Class  Deuil-la-Barre  Ile-de-France   \n",
       "\n",
       "   Country   Region       Product ID  amount_spent  \n",
       "0   France  Central  FUR-BO-10001405      6.492642  \n",
       "1   France  Central  OFF-AP-10000977      6.420829  \n",
       "2   France  Central  OFF-BI-10002083      7.117130  \n",
       "3  Germany  Central  OFF-BI-10002570      7.508037  \n",
       "4   France  Central  OFF-BI-10004924      5.326502  "
      ]
     },
     "execution_count": 4,
     "metadata": {},
     "output_type": "execute_result"
    }
   ],
   "source": [
    "orders['amount_spent']=orders['Jan']+orders['Feb']+orders['Mar']+orders['Apr']+orders['May']+orders['June']+orders['July']+orders['August']+orders['September']+orders['Oct']+orders['Nov']+orders['Dec']\n",
    "orders_total=orders[['Order ID', 'Ship Date', 'Ship Mode', 'City', 'State', 'Country',\n",
    "       'Region', 'Product ID','amount_spent']]\n",
    "orders_total.head()"
   ]
  },
  {
   "cell_type": "code",
   "execution_count": 5,
   "metadata": {},
   "outputs": [
    {
     "name": "stderr",
     "output_type": "stream",
     "text": [
      "C:\\Users\\Santiago\\AppData\\Local\\Temp\\ipykernel_14800\\823690572.py:5: SettingWithCopyWarning: \n",
      "A value is trying to be set on a copy of a slice from a DataFrame.\n",
      "Try using .loc[row_indexer,col_indexer] = value instead\n",
      "\n",
      "See the caveats in the documentation: https://pandas.pydata.org/pandas-docs/stable/user_guide/indexing.html#returning-a-view-versus-a-copy\n",
      "  orders_total['BinnedSales'] = pd.cut(orders_total['amount_spent'],[2.45,6,7,9.90], labels=bin_labels)\n"
     ]
    },
    {
     "data": {
      "text/plain": [
       "Regular      4936\n",
       "Preferred    3391\n",
       "VIP          1667\n",
       "Name: BinnedSales, dtype: int64"
      ]
     },
     "execution_count": 5,
     "metadata": {},
     "output_type": "execute_result"
    }
   ],
   "source": [
    "# your code here\n",
    "# VIP Customers whose aggregated expenses at your global chain stores are above the 95th percentile (aka. 0.95 quantile). \n",
    "# The second group is Preferred Customers whose aggregated expenses are between the 75th and 95th percentile.\n",
    "bin_labels = [\"Regular\",\"Preferred\",\"VIP\"]\n",
    "orders_total['BinnedSales'] = pd.cut(orders_total['amount_spent'],[2.45,6,7,9.90], labels=bin_labels)\n",
    "orders_total['BinnedSales']\n",
    "orders_total['BinnedSales'].value_counts()"
   ]
  },
  {
   "cell_type": "code",
   "execution_count": 6,
   "metadata": {},
   "outputs": [
    {
     "data": {
      "text/html": [
       "<div>\n",
       "<style scoped>\n",
       "    .dataframe tbody tr th:only-of-type {\n",
       "        vertical-align: middle;\n",
       "    }\n",
       "\n",
       "    .dataframe tbody tr th {\n",
       "        vertical-align: top;\n",
       "    }\n",
       "\n",
       "    .dataframe thead th {\n",
       "        text-align: right;\n",
       "    }\n",
       "</style>\n",
       "<table border=\"1\" class=\"dataframe\">\n",
       "  <thead>\n",
       "    <tr style=\"text-align: right;\">\n",
       "      <th></th>\n",
       "      <th>amount_spent</th>\n",
       "    </tr>\n",
       "  </thead>\n",
       "  <tbody>\n",
       "    <tr>\n",
       "      <th>count</th>\n",
       "      <td>9994.000000</td>\n",
       "    </tr>\n",
       "    <tr>\n",
       "      <th>mean</th>\n",
       "      <td>6.005574</td>\n",
       "    </tr>\n",
       "    <tr>\n",
       "      <th>std</th>\n",
       "      <td>1.006941</td>\n",
       "    </tr>\n",
       "    <tr>\n",
       "      <th>min</th>\n",
       "      <td>2.457723</td>\n",
       "    </tr>\n",
       "    <tr>\n",
       "      <th>25%</th>\n",
       "      <td>5.314128</td>\n",
       "    </tr>\n",
       "    <tr>\n",
       "      <th>50%</th>\n",
       "      <td>6.014903</td>\n",
       "    </tr>\n",
       "    <tr>\n",
       "      <th>75%</th>\n",
       "      <td>6.699833</td>\n",
       "    </tr>\n",
       "    <tr>\n",
       "      <th>max</th>\n",
       "      <td>9.894283</td>\n",
       "    </tr>\n",
       "  </tbody>\n",
       "</table>\n",
       "</div>"
      ],
      "text/plain": [
       "       amount_spent\n",
       "count   9994.000000\n",
       "mean       6.005574\n",
       "std        1.006941\n",
       "min        2.457723\n",
       "25%        5.314128\n",
       "50%        6.014903\n",
       "75%        6.699833\n",
       "max        9.894283"
      ]
     },
     "execution_count": 6,
     "metadata": {},
     "output_type": "execute_result"
    }
   ],
   "source": [
    "orders_total.describe()"
   ]
  },
  {
   "cell_type": "code",
   "execution_count": 7,
   "metadata": {},
   "outputs": [
    {
     "name": "stdout",
     "output_type": "stream",
     "text": [
      "Order ID            IT-2018-5989338\n",
      "Ship Date       2019-01-05 00:00:00\n",
      "Ship Mode            Standard Class\n",
      "City                        Zwickau\n",
      "State                        Zürich\n",
      "Country              United Kingdom\n",
      "Region                        South\n",
      "Product ID          TEC-PH-10004992\n",
      "amount_spent               9.894283\n",
      "BinnedSales                     VIP\n",
      "dtype: object\n"
     ]
    }
   ],
   "source": [
    "print(orders_total[(orders_total['BinnedSales']=='VIP')].max())"
   ]
  },
  {
   "cell_type": "code",
   "execution_count": 8,
   "metadata": {},
   "outputs": [
    {
     "name": "stdout",
     "output_type": "stream",
     "text": [
      "Order ID            ES-2014-1846006\n",
      "Ship Date       2015-01-07 00:00:00\n",
      "Ship Mode               First Class\n",
      "City                         Aachen\n",
      "State                       Abruzzi\n",
      "Country                     Austria\n",
      "Region                      Central\n",
      "Product ID          FUR-BO-10000002\n",
      "amount_spent               7.000626\n",
      "BinnedSales                     VIP\n",
      "dtype: object\n"
     ]
    }
   ],
   "source": [
    "print(orders_total[(orders_total['BinnedSales']=='VIP')].min())"
   ]
  },
  {
   "cell_type": "markdown",
   "metadata": {},
   "source": [
    "Now we'll leave it to you to solve Q2 & Q3, which you can leverage from your solution for Q1:\n",
    "\n",
    "## Q2: How to identify which country has the most VIP Customers?"
   ]
  },
  {
   "cell_type": "code",
   "execution_count": 9,
   "metadata": {},
   "outputs": [
    {
     "data": {
      "text/plain": [
       "France            495\n",
       "Germany           364\n",
       "United Kingdom    272\n",
       "Italy             167\n",
       "Spain             133\n",
       "Netherlands        61\n",
       "Austria            49\n",
       "Sweden             31\n",
       "Belgium            28\n",
       "Switzerland        20\n",
       "Ireland            13\n",
       "Finland            10\n",
       "Portugal           10\n",
       "Norway              7\n",
       "Denmark             7\n",
       "Name: Country, dtype: int64"
      ]
     },
     "execution_count": 9,
     "metadata": {},
     "output_type": "execute_result"
    }
   ],
   "source": [
    "# your code here\n",
    "VIP_orders_total=orders_total[(orders_total['BinnedSales']=='VIP')]\n",
    "VIP_orders_total['Country'].value_counts()"
   ]
  },
  {
   "cell_type": "markdown",
   "metadata": {},
   "source": [
    "## Q3: How to identify which country has the most VIP+Preferred Customers combined?"
   ]
  },
  {
   "cell_type": "code",
   "execution_count": 10,
   "metadata": {},
   "outputs": [
    {
     "data": {
      "text/plain": [
       "France            1469\n",
       "Germany           1026\n",
       "United Kingdom     831\n",
       "Italy              548\n",
       "Spain              435\n",
       "Netherlands        217\n",
       "Austria            136\n",
       "Sweden              94\n",
       "Belgium             64\n",
       "Ireland             56\n",
       "Switzerland         49\n",
       "Portugal            36\n",
       "Finland             35\n",
       "Denmark             32\n",
       "Norway              30\n",
       "Name: Country, dtype: int64"
      ]
     },
     "execution_count": 10,
     "metadata": {},
     "output_type": "execute_result"
    }
   ],
   "source": [
    "# your code here\n",
    "VIP_orders_total=orders_total[(orders_total['BinnedSales']=='VIP')+(orders_total['BinnedSales']=='Preferred')]\n",
    "VIP_orders_total['Country'].value_counts()"
   ]
  },
  {
   "cell_type": "code",
   "execution_count": null,
   "metadata": {},
   "outputs": [],
   "source": []
  }
 ],
 "metadata": {
  "kernelspec": {
   "display_name": "Python 3 (ipykernel)",
   "language": "python",
   "name": "python3"
  },
  "language_info": {
   "codemirror_mode": {
    "name": "ipython",
    "version": 3
   },
   "file_extension": ".py",
   "mimetype": "text/x-python",
   "name": "python",
   "nbconvert_exporter": "python",
   "pygments_lexer": "ipython3",
   "version": "3.9.12"
  }
 },
 "nbformat": 4,
 "nbformat_minor": 2
}
